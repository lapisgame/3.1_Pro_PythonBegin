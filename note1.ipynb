{
 "cells": [
  {
   "cell_type": "code",
   "execution_count": 2,
   "metadata": {},
   "outputs": [],
   "source": [
    "import requests\n",
    "from bs4 import BeautifulSoup as bs\n",
    "import pandas as pd"
   ]
  },
  {
   "cell_type": "code",
   "execution_count": 40,
   "metadata": {},
   "outputs": [],
   "source": [
    "def pars(url):\n",
    "    pars_res = {}\n",
    "\n",
    "    req = requests.get(url)\n",
    "    soup = bs(req.text, \"html.parser\")\n",
    "    article = soup.find_all('article', class_='product_pod')\n",
    "\n",
    "    title = []\n",
    "    page_link = {}\n",
    "    price = {}\n",
    "    for item in article:\n",
    "        title.append(item.h3.a['title'])\n",
    "        page_link[item.h3.a['title']] = f'https://books.toscrape.com/catalogue/{item.find(\"div\", class_=\"image_container\").a[\"href\"]}'\n",
    "        price[item.h3.a['title']] = item.find(\"div\", class_=\"product_price\").p.text\n",
    "\n",
    "    pars_res['title'] = title\n",
    "    pars_res['page_link'] = page_link\n",
    "    pars_res['price'] = price\n",
    "\n",
    "    return pars_res"
   ]
  },
  {
   "cell_type": "code",
   "execution_count": 41,
   "metadata": {},
   "outputs": [
    {
     "name": "stdout",
     "output_type": "stream",
     "text": [
      "{'title': ['A Light in the Attic', 'Tipping the Velvet', 'Soumission', 'Sharp Objects', 'Sapiens: A Brief History of Humankind', 'The Requiem Red', 'The Dirty Little Secrets of Getting Your Dream Job', 'The Coming Woman: A Novel Based on the Life of the Infamous Feminist, Victoria Woodhull', 'The Boys in the Boat: Nine Americans and Their Epic Quest for Gold at the 1936 Berlin Olympics', 'The Black Maria', 'Starving Hearts (Triangular Trade Trilogy, #1)', \"Shakespeare's Sonnets\", 'Set Me Free', \"Scott Pilgrim's Precious Little Life (Scott Pilgrim #1)\", 'Rip it Up and Start Again', 'Our Band Could Be Your Life: Scenes from the American Indie Underground, 1981-1991', 'Olio', 'Mesaerion: The Best Science Fiction Stories 1800-1849', 'Libertarianism for Beginners', \"It's Only the Himalayas\"], 'page_link': {'A Light in the Attic': 'https://books.toscrape.com/catalogue/a-light-in-the-attic_1000/index.html', 'Tipping the Velvet': 'https://books.toscrape.com/catalogue/tipping-the-velvet_999/index.html', 'Soumission': 'https://books.toscrape.com/catalogue/soumission_998/index.html', 'Sharp Objects': 'https://books.toscrape.com/catalogue/sharp-objects_997/index.html', 'Sapiens: A Brief History of Humankind': 'https://books.toscrape.com/catalogue/sapiens-a-brief-history-of-humankind_996/index.html', 'The Requiem Red': 'https://books.toscrape.com/catalogue/the-requiem-red_995/index.html', 'The Dirty Little Secrets of Getting Your Dream Job': 'https://books.toscrape.com/catalogue/the-dirty-little-secrets-of-getting-your-dream-job_994/index.html', 'The Coming Woman: A Novel Based on the Life of the Infamous Feminist, Victoria Woodhull': 'https://books.toscrape.com/catalogue/the-coming-woman-a-novel-based-on-the-life-of-the-infamous-feminist-victoria-woodhull_993/index.html', 'The Boys in the Boat: Nine Americans and Their Epic Quest for Gold at the 1936 Berlin Olympics': 'https://books.toscrape.com/catalogue/the-boys-in-the-boat-nine-americans-and-their-epic-quest-for-gold-at-the-1936-berlin-olympics_992/index.html', 'The Black Maria': 'https://books.toscrape.com/catalogue/the-black-maria_991/index.html', 'Starving Hearts (Triangular Trade Trilogy, #1)': 'https://books.toscrape.com/catalogue/starving-hearts-triangular-trade-trilogy-1_990/index.html', \"Shakespeare's Sonnets\": 'https://books.toscrape.com/catalogue/shakespeares-sonnets_989/index.html', 'Set Me Free': 'https://books.toscrape.com/catalogue/set-me-free_988/index.html', \"Scott Pilgrim's Precious Little Life (Scott Pilgrim #1)\": 'https://books.toscrape.com/catalogue/scott-pilgrims-precious-little-life-scott-pilgrim-1_987/index.html', 'Rip it Up and Start Again': 'https://books.toscrape.com/catalogue/rip-it-up-and-start-again_986/index.html', 'Our Band Could Be Your Life: Scenes from the American Indie Underground, 1981-1991': 'https://books.toscrape.com/catalogue/our-band-could-be-your-life-scenes-from-the-american-indie-underground-1981-1991_985/index.html', 'Olio': 'https://books.toscrape.com/catalogue/olio_984/index.html', 'Mesaerion: The Best Science Fiction Stories 1800-1849': 'https://books.toscrape.com/catalogue/mesaerion-the-best-science-fiction-stories-1800-1849_983/index.html', 'Libertarianism for Beginners': 'https://books.toscrape.com/catalogue/libertarianism-for-beginners_982/index.html', \"It's Only the Himalayas\": 'https://books.toscrape.com/catalogue/its-only-the-himalayas_981/index.html'}, 'price': {'A Light in the Attic': 'Â£51.77', 'Tipping the Velvet': 'Â£53.74', 'Soumission': 'Â£50.10', 'Sharp Objects': 'Â£47.82', 'Sapiens: A Brief History of Humankind': 'Â£54.23', 'The Requiem Red': 'Â£22.65', 'The Dirty Little Secrets of Getting Your Dream Job': 'Â£33.34', 'The Coming Woman: A Novel Based on the Life of the Infamous Feminist, Victoria Woodhull': 'Â£17.93', 'The Boys in the Boat: Nine Americans and Their Epic Quest for Gold at the 1936 Berlin Olympics': 'Â£22.60', 'The Black Maria': 'Â£52.15', 'Starving Hearts (Triangular Trade Trilogy, #1)': 'Â£13.99', \"Shakespeare's Sonnets\": 'Â£20.66', 'Set Me Free': 'Â£17.46', \"Scott Pilgrim's Precious Little Life (Scott Pilgrim #1)\": 'Â£52.29', 'Rip it Up and Start Again': 'Â£35.02', 'Our Band Could Be Your Life: Scenes from the American Indie Underground, 1981-1991': 'Â£57.25', 'Olio': 'Â£23.88', 'Mesaerion: The Best Science Fiction Stories 1800-1849': 'Â£37.59', 'Libertarianism for Beginners': 'Â£51.33', \"It's Only the Himalayas\": 'Â£45.17'}}\n"
     ]
    }
   ],
   "source": [
    "for i in range(1,2):\n",
    "    print(pars(f'https://books.toscrape.com/catalogue/page-{i}.html'))"
   ]
  },
  {
   "cell_type": "code",
   "execution_count": 26,
   "metadata": {},
   "outputs": [
    {
     "name": "stdout",
     "output_type": "stream",
     "text": [
      "{'name': 'Teresa', 'surname': 'Woodard'}\n"
     ]
    }
   ],
   "source": [
    "from faker import Faker\n",
    "fake = Faker()\n",
    "\n",
    "split = fake.name().split(' ')\n",
    "person = {'name':split[0], 'surname':split[1]}\n",
    "print(person)"
   ]
  }
 ],
 "metadata": {
  "kernelspec": {
   "display_name": "Python 3",
   "language": "python",
   "name": "python3"
  },
  "language_info": {
   "codemirror_mode": {
    "name": "ipython",
    "version": 3
   },
   "file_extension": ".py",
   "mimetype": "text/x-python",
   "name": "python",
   "nbconvert_exporter": "python",
   "pygments_lexer": "ipython3",
   "version": "3.11.4"
  },
  "orig_nbformat": 4
 },
 "nbformat": 4,
 "nbformat_minor": 2
}
