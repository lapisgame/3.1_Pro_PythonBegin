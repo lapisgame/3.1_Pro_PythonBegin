{
 "cells": [
  {
   "cell_type": "code",
   "execution_count": 8,
   "metadata": {},
   "outputs": [],
   "source": [
    "import requests\n",
    "from bs4 import BeautifulSoup as bs\n",
    "import pandas as pd"
   ]
  },
  {
   "cell_type": "code",
   "execution_count": 35,
   "metadata": {},
   "outputs": [],
   "source": [
    "def refactRating(rating) -> int:\n",
    "    if \"One\" in rating:\n",
    "        return 1\n",
    "    if \"Two\" in rating:\n",
    "        return 2\n",
    "    if \"Three\" in rating:\n",
    "        return 3\n",
    "    if \"Four\" in rating:\n",
    "        return 4\n",
    "    if \"Five\" in rating:\n",
    "        return 5\n",
    "\n",
    "def pars(url):\n",
    "    pars_res = {}\n",
    "\n",
    "    req = requests.get(url)\n",
    "    soup = bs(req.text, \"html.parser\")\n",
    "    article = soup.find_all('article', class_='product_pod')\n",
    "\n",
    "    title = []\n",
    "    page_link = {}\n",
    "    price = {}\n",
    "    rating = {}\n",
    "    for item in article:\n",
    "        title.append(item.h3.a['title'])\n",
    "        page_link[item.h3.a['title']] = f'https://books.toscrape.com/catalogue/{item.find(\"div\", class_=\"image_container\").a[\"href\"]}'\n",
    "        price[item.h3.a['title']] = item.find(\"div\", class_=\"product_price\").p.text.replace(\"Â£\", \"\")\n",
    "        rating[item.h3.a['title']] = refactRating(item.find(\"p\", class_=\"star-rating\")['class'][1])\n",
    "\n",
    "    pars_res['title'] = title\n",
    "    pars_res['page_link'] = page_link\n",
    "    pars_res['price'] = price\n",
    "    pars_res['rating'] = rating\n",
    "\n",
    "    return pars_res"
   ]
  },
  {
   "cell_type": "code",
   "execution_count": 36,
   "metadata": {},
   "outputs": [
    {
     "name": "stdout",
     "output_type": "stream",
     "text": [
      "A Light in the Attic\n",
      "https://books.toscrape.com/catalogue/a-light-in-the-attic_1000/index.html\n",
      "51.77\n",
      "3\n"
     ]
    }
   ],
   "source": [
    "for i in range(1,2):\n",
    "    res = pars(f'https://books.toscrape.com/catalogue/page-{i}.html')\n",
    "    print(res['title'][0])\n",
    "    print(res['page_link'][res['title'][0]])\n",
    "    print(res['price'][res['title'][0]])\n",
    "    print(res['rating'][res['title'][0]])"
   ]
  },
  {
   "cell_type": "code",
   "execution_count": 26,
   "metadata": {},
   "outputs": [
    {
     "name": "stdout",
     "output_type": "stream",
     "text": [
      "{'name': 'Teresa', 'surname': 'Woodard'}\n"
     ]
    }
   ],
   "source": [
    "from faker import Faker\n",
    "fake = Faker()\n",
    "\n",
    "split = fake.name().split(' ')\n",
    "person = {'name':split[0], 'surname':split[1]}\n",
    "print(person)"
   ]
  }
 ],
 "metadata": {
  "kernelspec": {
   "display_name": "Python 3",
   "language": "python",
   "name": "python3"
  },
  "language_info": {
   "codemirror_mode": {
    "name": "ipython",
    "version": 3
   },
   "file_extension": ".py",
   "mimetype": "text/x-python",
   "name": "python",
   "nbconvert_exporter": "python",
   "pygments_lexer": "ipython3",
   "version": "3.11.4"
  },
  "orig_nbformat": 4
 },
 "nbformat": 4,
 "nbformat_minor": 2
}
